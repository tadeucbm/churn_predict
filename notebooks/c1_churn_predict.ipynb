{
 "cells": [
  {
   "cell_type": "markdown",
   "id": "0acced7a",
   "metadata": {},
   "source": [
    "# 0.0. IMPORTS"
   ]
  },
  {
   "cell_type": "markdown",
   "id": "97407564",
   "metadata": {},
   "source": [
    "## 0.1. Import Frameworks"
   ]
  },
  {
   "cell_type": "code",
   "execution_count": 1,
   "id": "a9e0e712",
   "metadata": {},
   "outputs": [],
   "source": [
    "# manipulation\n",
    "import pandas as pd\n",
    "import numpy as np\n",
    "import inflection\n",
    "\n",
    "# plot\n",
    "import matplotlib.pyplot as plt\n",
    "import seaborn as sns"
   ]
  },
  {
   "cell_type": "markdown",
   "id": "dac8a467",
   "metadata": {},
   "source": [
    "## 0.2. Helper Functions"
   ]
  },
  {
   "cell_type": "code",
   "execution_count": 149,
   "id": "577aa6d9",
   "metadata": {},
   "outputs": [],
   "source": [
    "def jupyter_settings():\n",
    "    %matplotlib inline\n",
    "    \n",
    "    plt.style.use('bmh')\n",
    "    plt.rcParams['figure.figsize'] = [25, 12]\n",
    "    plt.rcParams['font.size'] = 24\n",
    "    \n",
    "    sns.set()\n",
    "    \n",
    "# Plot categorical attributes with annot\n",
    "def plot_cat(att, annot=True):\n",
    "    \n",
    "    splot = sns.countplot(x = cat_attributes[att])\n",
    "\n",
    "    if annot == True:\n",
    "        for p in splot.patches:\n",
    "            splot.annotate(format(p.get_height(), '.2f'), \n",
    "                          (p.get_x() + p.get_width() / 2., p.get_height()), \n",
    "                           ha = 'center', va = 'center', xytext = (0, 10), \n",
    "                           textcoords = 'offset points')"
   ]
  },
  {
   "cell_type": "code",
   "execution_count": 134,
   "id": "75563abe",
   "metadata": {},
   "outputs": [],
   "source": [
    "jupyter_settings()"
   ]
  },
  {
   "cell_type": "markdown",
   "id": "691e1860",
   "metadata": {},
   "source": [
    "## 0.3. Import Data"
   ]
  },
  {
   "cell_type": "code",
   "execution_count": 135,
   "id": "2440744f",
   "metadata": {},
   "outputs": [],
   "source": [
    "# data url\n",
    "url = 'https://raw.githubusercontent.com/tadeucbm/churn_predict/main/data/churn.csv'\n",
    "\n",
    "# df is data\n",
    "df = pd.read_csv(url).drop(['RowNumber', 'CustomerId'], axis=1)"
   ]
  },
  {
   "cell_type": "code",
   "execution_count": 136,
   "id": "98a48373",
   "metadata": {},
   "outputs": [
    {
     "data": {
      "text/html": [
       "<div>\n",
       "<style scoped>\n",
       "    .dataframe tbody tr th:only-of-type {\n",
       "        vertical-align: middle;\n",
       "    }\n",
       "\n",
       "    .dataframe tbody tr th {\n",
       "        vertical-align: top;\n",
       "    }\n",
       "\n",
       "    .dataframe thead th {\n",
       "        text-align: right;\n",
       "    }\n",
       "</style>\n",
       "<table border=\"1\" class=\"dataframe\">\n",
       "  <thead>\n",
       "    <tr style=\"text-align: right;\">\n",
       "      <th></th>\n",
       "      <th>Surname</th>\n",
       "      <th>CreditScore</th>\n",
       "      <th>Geography</th>\n",
       "      <th>Gender</th>\n",
       "      <th>Age</th>\n",
       "      <th>Tenure</th>\n",
       "      <th>Balance</th>\n",
       "      <th>NumOfProducts</th>\n",
       "      <th>HasCrCard</th>\n",
       "      <th>IsActiveMember</th>\n",
       "      <th>EstimatedSalary</th>\n",
       "      <th>Exited</th>\n",
       "    </tr>\n",
       "  </thead>\n",
       "  <tbody>\n",
       "    <tr>\n",
       "      <th>0</th>\n",
       "      <td>Hargrave</td>\n",
       "      <td>619</td>\n",
       "      <td>France</td>\n",
       "      <td>Female</td>\n",
       "      <td>42</td>\n",
       "      <td>2</td>\n",
       "      <td>0.00</td>\n",
       "      <td>1</td>\n",
       "      <td>1</td>\n",
       "      <td>1</td>\n",
       "      <td>101348.88</td>\n",
       "      <td>1</td>\n",
       "    </tr>\n",
       "    <tr>\n",
       "      <th>1</th>\n",
       "      <td>Hill</td>\n",
       "      <td>608</td>\n",
       "      <td>Spain</td>\n",
       "      <td>Female</td>\n",
       "      <td>41</td>\n",
       "      <td>1</td>\n",
       "      <td>83807.86</td>\n",
       "      <td>1</td>\n",
       "      <td>0</td>\n",
       "      <td>1</td>\n",
       "      <td>112542.58</td>\n",
       "      <td>0</td>\n",
       "    </tr>\n",
       "    <tr>\n",
       "      <th>2</th>\n",
       "      <td>Onio</td>\n",
       "      <td>502</td>\n",
       "      <td>France</td>\n",
       "      <td>Female</td>\n",
       "      <td>42</td>\n",
       "      <td>8</td>\n",
       "      <td>159660.80</td>\n",
       "      <td>3</td>\n",
       "      <td>1</td>\n",
       "      <td>0</td>\n",
       "      <td>113931.57</td>\n",
       "      <td>1</td>\n",
       "    </tr>\n",
       "    <tr>\n",
       "      <th>3</th>\n",
       "      <td>Boni</td>\n",
       "      <td>699</td>\n",
       "      <td>France</td>\n",
       "      <td>Female</td>\n",
       "      <td>39</td>\n",
       "      <td>1</td>\n",
       "      <td>0.00</td>\n",
       "      <td>2</td>\n",
       "      <td>0</td>\n",
       "      <td>0</td>\n",
       "      <td>93826.63</td>\n",
       "      <td>0</td>\n",
       "    </tr>\n",
       "    <tr>\n",
       "      <th>4</th>\n",
       "      <td>Mitchell</td>\n",
       "      <td>850</td>\n",
       "      <td>Spain</td>\n",
       "      <td>Female</td>\n",
       "      <td>43</td>\n",
       "      <td>2</td>\n",
       "      <td>125510.82</td>\n",
       "      <td>1</td>\n",
       "      <td>1</td>\n",
       "      <td>1</td>\n",
       "      <td>79084.10</td>\n",
       "      <td>0</td>\n",
       "    </tr>\n",
       "  </tbody>\n",
       "</table>\n",
       "</div>"
      ],
      "text/plain": [
       "    Surname  CreditScore Geography  Gender  Age  Tenure    Balance  \\\n",
       "0  Hargrave          619    France  Female   42       2       0.00   \n",
       "1      Hill          608     Spain  Female   41       1   83807.86   \n",
       "2      Onio          502    France  Female   42       8  159660.80   \n",
       "3      Boni          699    France  Female   39       1       0.00   \n",
       "4  Mitchell          850     Spain  Female   43       2  125510.82   \n",
       "\n",
       "   NumOfProducts  HasCrCard  IsActiveMember  EstimatedSalary  Exited  \n",
       "0              1          1               1        101348.88       1  \n",
       "1              1          0               1        112542.58       0  \n",
       "2              3          1               0        113931.57       1  \n",
       "3              2          0               0         93826.63       0  \n",
       "4              1          1               1         79084.10       0  "
      ]
     },
     "execution_count": 136,
     "metadata": {},
     "output_type": "execute_result"
    }
   ],
   "source": [
    "df.head()"
   ]
  },
  {
   "cell_type": "markdown",
   "id": "cff452b0",
   "metadata": {},
   "source": [
    "# 1.0. DATA DESCRIPTION"
   ]
  },
  {
   "cell_type": "code",
   "execution_count": 137,
   "id": "9932bc1e",
   "metadata": {},
   "outputs": [],
   "source": [
    "# copy df to next section\n",
    "df1 = df.copy()"
   ]
  },
  {
   "cell_type": "markdown",
   "id": "824b95ea",
   "metadata": {},
   "source": [
    "## 1.1. Rename Columns"
   ]
  },
  {
   "cell_type": "code",
   "execution_count": 138,
   "id": "5ad752c0",
   "metadata": {},
   "outputs": [],
   "source": [
    "# select columns\n",
    "cols_old = df1.columns.to_list()\n",
    "\n",
    "# anonymous function to underscore columns\n",
    "snakecase = lambda x: inflection.underscore(x)\n",
    "\n",
    "# create new column names\n",
    "cols_new = list(map(snakecase, cols_old))\n",
    "\n",
    "# rename\n",
    "df1.columns = cols_new"
   ]
  },
  {
   "cell_type": "code",
   "execution_count": 139,
   "id": "99c9e923",
   "metadata": {},
   "outputs": [
    {
     "data": {
      "text/plain": [
       "Index(['surname', 'credit_score', 'geography', 'gender', 'age', 'tenure',\n",
       "       'balance', 'num_of_products', 'has_cr_card', 'is_active_member',\n",
       "       'estimated_salary', 'exited'],\n",
       "      dtype='object')"
      ]
     },
     "execution_count": 139,
     "metadata": {},
     "output_type": "execute_result"
    }
   ],
   "source": [
    "# print columns\n",
    "df1.columns"
   ]
  },
  {
   "cell_type": "markdown",
   "id": "faa9d1d2",
   "metadata": {},
   "source": [
    "## 1.2. Data Dimension"
   ]
  },
  {
   "cell_type": "code",
   "execution_count": 140,
   "id": "25af5dcf",
   "metadata": {},
   "outputs": [
    {
     "name": "stdout",
     "output_type": "stream",
     "text": [
      "Number of rows: 10000\n",
      "Number of columns: 12\n"
     ]
    }
   ],
   "source": [
    "# print the number of rows\n",
    "print(f'Number of rows: {df1.shape[0]}')\n",
    "\n",
    "# print the number of columns\n",
    "print(f'Number of columns: {df1.shape[1]}')"
   ]
  },
  {
   "cell_type": "markdown",
   "id": "d6f41de1",
   "metadata": {},
   "source": [
    "## 1.3. Data Types"
   ]
  },
  {
   "cell_type": "code",
   "execution_count": 141,
   "id": "fdaeeafa",
   "metadata": {},
   "outputs": [
    {
     "data": {
      "text/plain": [
       "surname              object\n",
       "credit_score          int64\n",
       "geography            object\n",
       "gender               object\n",
       "age                   int64\n",
       "tenure                int64\n",
       "balance             float64\n",
       "num_of_products       int64\n",
       "has_cr_card           int64\n",
       "is_active_member      int64\n",
       "estimated_salary    float64\n",
       "exited                int64\n",
       "dtype: object"
      ]
     },
     "execution_count": 141,
     "metadata": {},
     "output_type": "execute_result"
    }
   ],
   "source": [
    "# view dtypes\n",
    "df1.dtypes"
   ]
  },
  {
   "cell_type": "code",
   "execution_count": 142,
   "id": "ec7b3cd8",
   "metadata": {},
   "outputs": [],
   "source": [
    "# turning binary variables into objects\n",
    "df1 = df1.astype({'num_of_products': 'object', 'has_cr_card': 'object', \n",
    "                  'is_active_member': 'object', 'exited': 'object', \n",
    "                  'tenure': 'object'})"
   ]
  },
  {
   "cell_type": "markdown",
   "id": "9bc5702a",
   "metadata": {},
   "source": [
    "## 1.4. Check NA"
   ]
  },
  {
   "cell_type": "code",
   "execution_count": 143,
   "id": "eee3dcee",
   "metadata": {},
   "outputs": [
    {
     "data": {
      "text/plain": [
       "surname             0\n",
       "credit_score        0\n",
       "geography           0\n",
       "gender              0\n",
       "age                 0\n",
       "tenure              0\n",
       "balance             0\n",
       "num_of_products     0\n",
       "has_cr_card         0\n",
       "is_active_member    0\n",
       "estimated_salary    0\n",
       "exited              0\n",
       "dtype: int64"
      ]
     },
     "execution_count": 143,
     "metadata": {},
     "output_type": "execute_result"
    }
   ],
   "source": [
    "df1.isna().sum()"
   ]
  },
  {
   "cell_type": "markdown",
   "id": "ea8f31f0",
   "metadata": {},
   "source": [
    "## 1.5. Descriptive Statistics"
   ]
  },
  {
   "cell_type": "code",
   "execution_count": 144,
   "id": "b71d59a3",
   "metadata": {},
   "outputs": [],
   "source": [
    "# df with only numerical attributes\n",
    "num_attributes = df1.select_dtypes(include=['int64', 'float64'])\n",
    "\n",
    "# df with only categorical attributes\n",
    "cat_attributes = df1.select_dtypes(exclude=['int64', 'float64'])"
   ]
  },
  {
   "cell_type": "markdown",
   "id": "29a0813e",
   "metadata": {},
   "source": [
    "### 1.5.1. Numerical Attributes"
   ]
  },
  {
   "cell_type": "code",
   "execution_count": 145,
   "id": "c07d3a65",
   "metadata": {},
   "outputs": [
    {
     "data": {
      "text/html": [
       "<div>\n",
       "<style scoped>\n",
       "    .dataframe tbody tr th:only-of-type {\n",
       "        vertical-align: middle;\n",
       "    }\n",
       "\n",
       "    .dataframe tbody tr th {\n",
       "        vertical-align: top;\n",
       "    }\n",
       "\n",
       "    .dataframe thead th {\n",
       "        text-align: right;\n",
       "    }\n",
       "</style>\n",
       "<table border=\"1\" class=\"dataframe\">\n",
       "  <thead>\n",
       "    <tr style=\"text-align: right;\">\n",
       "      <th></th>\n",
       "      <th>attributes</th>\n",
       "      <th>min</th>\n",
       "      <th>max</th>\n",
       "      <th>range</th>\n",
       "      <th>mean</th>\n",
       "      <th>median</th>\n",
       "      <th>std</th>\n",
       "      <th>skew</th>\n",
       "      <th>kurtosis</th>\n",
       "    </tr>\n",
       "  </thead>\n",
       "  <tbody>\n",
       "    <tr>\n",
       "      <th>0</th>\n",
       "      <td>credit_score</td>\n",
       "      <td>350.00</td>\n",
       "      <td>850.00</td>\n",
       "      <td>500.00</td>\n",
       "      <td>650.528800</td>\n",
       "      <td>652.000</td>\n",
       "      <td>96.648466</td>\n",
       "      <td>-0.071607</td>\n",
       "      <td>-0.425726</td>\n",
       "    </tr>\n",
       "    <tr>\n",
       "      <th>1</th>\n",
       "      <td>age</td>\n",
       "      <td>18.00</td>\n",
       "      <td>92.00</td>\n",
       "      <td>74.00</td>\n",
       "      <td>38.921800</td>\n",
       "      <td>37.000</td>\n",
       "      <td>10.487282</td>\n",
       "      <td>1.011320</td>\n",
       "      <td>1.395347</td>\n",
       "    </tr>\n",
       "    <tr>\n",
       "      <th>2</th>\n",
       "      <td>balance</td>\n",
       "      <td>0.00</td>\n",
       "      <td>250898.09</td>\n",
       "      <td>250898.09</td>\n",
       "      <td>76485.889288</td>\n",
       "      <td>97198.540</td>\n",
       "      <td>62394.285254</td>\n",
       "      <td>-0.141109</td>\n",
       "      <td>-1.489412</td>\n",
       "    </tr>\n",
       "    <tr>\n",
       "      <th>3</th>\n",
       "      <td>estimated_salary</td>\n",
       "      <td>11.58</td>\n",
       "      <td>199992.48</td>\n",
       "      <td>199980.90</td>\n",
       "      <td>100090.239881</td>\n",
       "      <td>100193.915</td>\n",
       "      <td>57507.617221</td>\n",
       "      <td>0.002085</td>\n",
       "      <td>-1.181518</td>\n",
       "    </tr>\n",
       "  </tbody>\n",
       "</table>\n",
       "</div>"
      ],
      "text/plain": [
       "         attributes     min        max      range           mean      median  \\\n",
       "0      credit_score  350.00     850.00     500.00     650.528800     652.000   \n",
       "1               age   18.00      92.00      74.00      38.921800      37.000   \n",
       "2           balance    0.00  250898.09  250898.09   76485.889288   97198.540   \n",
       "3  estimated_salary   11.58  199992.48  199980.90  100090.239881  100193.915   \n",
       "\n",
       "            std      skew  kurtosis  \n",
       "0     96.648466 -0.071607 -0.425726  \n",
       "1     10.487282  1.011320  1.395347  \n",
       "2  62394.285254 -0.141109 -1.489412  \n",
       "3  57507.617221  0.002085 -1.181518  "
      ]
     },
     "execution_count": 145,
     "metadata": {},
     "output_type": "execute_result"
    }
   ],
   "source": [
    "# Central Tendency\n",
    "ct1 = pd.DataFrame( num_attributes.apply( np.mean ) ).T\n",
    "ct2 = pd.DataFrame( num_attributes.apply( np.median ) ).T\n",
    "\n",
    "# Dispersion\n",
    "d1 = pd.DataFrame( num_attributes.apply( np.std ) ).T\n",
    "d2 = pd.DataFrame( num_attributes.apply( min ) ).T\n",
    "d3 = pd.DataFrame( num_attributes.apply( max ) ).T\n",
    "d4 = pd.DataFrame( num_attributes.apply( lambda x: x.max() - x.min() ) ).T\n",
    "d5 = pd.DataFrame( num_attributes.apply( lambda x: x.skew() ) ).T\n",
    "d6 = pd.DataFrame( num_attributes.apply( lambda x: x.kurtosis() ) ).T\n",
    "\n",
    "# Concatenate\n",
    "ct = pd.concat( [d2, d3, d4, ct1, ct2, d1, d5, d6] ).T.reset_index()\n",
    "ct.columns = ['attributes', 'min', 'max', 'range', 'mean', 'median', 'std', 'skew', 'kurtosis']\n",
    "ct"
   ]
  },
  {
   "cell_type": "code",
   "execution_count": 146,
   "id": "69a7faf4",
   "metadata": {},
   "outputs": [
    {
     "data": {
      "image/png": "[encoded data removed]",
      "text/plain": [
       "<Figure size 1800x864 with 4 Axes>"
      ]
     },
     "metadata": {},
     "output_type": "display_data"
    }
   ],
   "source": [
    "# plot histograms\n",
    "num_attributes.hist(bins=100);"
   ]
  },
  {
   "cell_type": "markdown",
   "id": "9398774a",
   "metadata": {},
   "source": [
    "### 1.5.2. Categorical Attributes"
   ]
  },
  {
   "cell_type": "code",
   "execution_count": 153,
   "id": "b41d7a8b",
   "metadata": {},
   "outputs": [
    {
     "data": {
      "image/png": "[encoded data removed]",
      "text/plain": [
       "<Figure size 1800x864 with 6 Axes>"
      ]
     },
     "metadata": {},
     "output_type": "display_data"
    }
   ],
   "source": [
    "# create grid\n",
    "grid = plt.GridSpec(2, 3)\n",
    "\n",
    "# print countplot geography\n",
    "plt.subplot(grid[0, 0])\n",
    "plot_cat('geography')\n",
    "\n",
    "# print countplot gender\n",
    "plt.subplot(grid[0, 1])\n",
    "plot_cat('gender')\n",
    "\n",
    "# print countplot tenure\n",
    "plt.subplot(grid[0, 2])\n",
    "plot_cat('tenure', annot=False)\n",
    "\n",
    "# print countplot num_of_products\n",
    "plt.subplot(grid[1, 0])\n",
    "plot_cat('num_of_products')\n",
    "\n",
    "# print countplot has_cr_card\n",
    "plt.subplot(grid[1, 1])\n",
    "plot_cat('has_cr_card')\n",
    "\n",
    "# print countplot is_active_member\n",
    "plt.subplot(grid[1, 2])\n",
    "plot_cat('is_active_member')"
   ]
  },
  {
   "cell_type": "code",
   "execution_count": 152,
   "id": "535ef3d2",
   "metadata": {},
   "outputs": [
    {
     "data": {
      "image/png": "[encoded data removed]",
      "text/plain": [
       "<Figure size 1800x864 with 1 Axes>"
      ]
     },
     "metadata": {},
     "output_type": "display_data"
    }
   ],
   "source": [
    "# variable target\n",
    "plot_cat('exited')"
   ]
  },
  {
   "cell_type": "markdown",
   "id": "7971c4ba",
   "metadata": {},
   "source": [
    "obs: very umbalaced variable response"
   ]
  },
  {
   "cell_type": "markdown",
   "id": "ba85ec0c",
   "metadata": {},
   "source": [
    "# 2.0. FEATURE ENGINEERING"
   ]
  },
  {
   "cell_type": "code",
   "execution_count": null,
   "id": "e31d901c",
   "metadata": {},
   "outputs": [],
   "source": []
  }
 ],
 "metadata": {
  "kernelspec": {
   "display_name": "Python 3",
   "language": "python",
   "name": "python3"
  },
  "language_info": {
   "codemirror_mode": {
    "name": "ipython",
    "version": 3
   },
   "file_extension": ".py",
   "mimetype": "text/x-python",
   "name": "python",
   "nbconvert_exporter": "python",
   "pygments_lexer": "ipython3",
   "version": "3.8.0"
  }
 },
 "nbformat": 4,
 "nbformat_minor": 5
}
